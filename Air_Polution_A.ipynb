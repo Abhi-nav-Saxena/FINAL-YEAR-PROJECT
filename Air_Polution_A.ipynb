{
 "cells": [
  {
   "cell_type": "markdown",
   "metadata": {
    "id": "l9jn6yiKePzu"
   },
   "source": [
    "<h1><center><b>Air Pollution prediction</b></center></h1>\n",
    "\n",
    "### **Why?**\n",
    "\n",
    "#### *With the advent of industrialization and digitalization comes it's causes and effects.*\n",
    "\n",
    "![](https://rtmagazine.com/wp-content/uploads/2019/05/air-pollution-smog-1500-1280x640.jpg)\n",
    "\n",
    "\n",
    "In this 21st century we all are facing one of the biggest problem of rising levels of pollution in our environment in various expressions via Air, Water, Soil, etc.\n",
    "\n",
    "In all of them, the one with the widest depth and breadth of destruction to humanity is Air pollution. These days we don't even need data to prove our statements, the real conditions out there are self sufficient to hold the weight. With each season comes a new record breaking news favouring the Air pollution. Whether it is SMOG in winters or *hazy* environment conditions during fall in nothern India. Every time we are repeating the same mistake.\n",
    "\n",
    "Though we are already late, but still this is the time to put some solid focussed awareness towards this global cause, otherwise the day is not far when we will be packing our bags for mars.\n"
   ]
  },
  {
   "cell_type": "markdown",
   "metadata": {
    "id": "AS2g74pSid2a"
   },
   "source": [
    "### **Why this Prediction?**\n",
    "\n",
    "Here we have done some analysis of historic data on Air Quality since Air is what keeps us alive and it is our duty to monitor it and understand it's quality."
   ]
  },
  {
   "cell_type": "markdown",
   "metadata": {
    "id": "whG9RqJtm9fq"
   },
   "source": [
    "The data is collected from Kaggle.\n",
    "\n",
    "We'll start by importing the necessary libraries for out analysis.\n"
   ]
  },
  {
   "cell_type": "code",
   "execution_count": 3,
   "metadata": {
    "id": "AGyWmXwkdleF"
   },
   "outputs": [],
   "source": [
    "import numpy as np\n",
    "import pandas as pd\n",
    "import matplotlib.pyplot as plt\n",
    "import seaborn as sns"
   ]
  },
  {
   "cell_type": "markdown",
   "metadata": {
    "id": "haaflB3khd_R"
   },
   "source": [
    "Next we will load our dataset"
   ]
  },
  {
   "cell_type": "code",
   "execution_count": 4,
   "metadata": {
    "colab": {
     "base_uri": "https://localhost:8080/",
     "height": 202
    },
    "id": "ra7beHXQdy9a",
    "outputId": "2c834397-0e1d-4e2c-8544-c60b97a0fbf6"
   },
   "outputs": [
    {
     "data": {
      "text/html": [
       "<div>\n",
       "<style scoped>\n",
       "    .dataframe tbody tr th:only-of-type {\n",
       "        vertical-align: middle;\n",
       "    }\n",
       "\n",
       "    .dataframe tbody tr th {\n",
       "        vertical-align: top;\n",
       "    }\n",
       "\n",
       "    .dataframe thead th {\n",
       "        text-align: right;\n",
       "    }\n",
       "</style>\n",
       "<table border=\"1\" class=\"dataframe\">\n",
       "  <thead>\n",
       "    <tr style=\"text-align: right;\">\n",
       "      <th></th>\n",
       "      <th>City</th>\n",
       "      <th>Date</th>\n",
       "      <th>PM2.5</th>\n",
       "      <th>PM10</th>\n",
       "      <th>NO</th>\n",
       "      <th>NO2</th>\n",
       "      <th>NOx</th>\n",
       "      <th>NH3</th>\n",
       "      <th>CO</th>\n",
       "      <th>SO2</th>\n",
       "      <th>O3</th>\n",
       "      <th>Benzene</th>\n",
       "      <th>Toluene</th>\n",
       "      <th>Xylene</th>\n",
       "      <th>AQI</th>\n",
       "      <th>AQI_Bucket</th>\n",
       "    </tr>\n",
       "  </thead>\n",
       "  <tbody>\n",
       "    <tr>\n",
       "      <th>0</th>\n",
       "      <td>Ahmedabad</td>\n",
       "      <td>2015-01-01</td>\n",
       "      <td>NaN</td>\n",
       "      <td>NaN</td>\n",
       "      <td>0.92</td>\n",
       "      <td>18.22</td>\n",
       "      <td>17.15</td>\n",
       "      <td>NaN</td>\n",
       "      <td>0.92</td>\n",
       "      <td>27.64</td>\n",
       "      <td>133.36</td>\n",
       "      <td>0.00</td>\n",
       "      <td>0.02</td>\n",
       "      <td>0.00</td>\n",
       "      <td>NaN</td>\n",
       "      <td>NaN</td>\n",
       "    </tr>\n",
       "    <tr>\n",
       "      <th>1</th>\n",
       "      <td>Ahmedabad</td>\n",
       "      <td>2015-01-02</td>\n",
       "      <td>NaN</td>\n",
       "      <td>NaN</td>\n",
       "      <td>0.97</td>\n",
       "      <td>15.69</td>\n",
       "      <td>16.46</td>\n",
       "      <td>NaN</td>\n",
       "      <td>0.97</td>\n",
       "      <td>24.55</td>\n",
       "      <td>34.06</td>\n",
       "      <td>3.68</td>\n",
       "      <td>5.50</td>\n",
       "      <td>3.77</td>\n",
       "      <td>NaN</td>\n",
       "      <td>NaN</td>\n",
       "    </tr>\n",
       "    <tr>\n",
       "      <th>2</th>\n",
       "      <td>Ahmedabad</td>\n",
       "      <td>2015-01-03</td>\n",
       "      <td>NaN</td>\n",
       "      <td>NaN</td>\n",
       "      <td>17.40</td>\n",
       "      <td>19.30</td>\n",
       "      <td>29.70</td>\n",
       "      <td>NaN</td>\n",
       "      <td>17.40</td>\n",
       "      <td>29.07</td>\n",
       "      <td>30.70</td>\n",
       "      <td>6.80</td>\n",
       "      <td>16.40</td>\n",
       "      <td>2.25</td>\n",
       "      <td>NaN</td>\n",
       "      <td>NaN</td>\n",
       "    </tr>\n",
       "    <tr>\n",
       "      <th>3</th>\n",
       "      <td>Ahmedabad</td>\n",
       "      <td>2015-01-04</td>\n",
       "      <td>NaN</td>\n",
       "      <td>NaN</td>\n",
       "      <td>1.70</td>\n",
       "      <td>18.48</td>\n",
       "      <td>17.97</td>\n",
       "      <td>NaN</td>\n",
       "      <td>1.70</td>\n",
       "      <td>18.59</td>\n",
       "      <td>36.08</td>\n",
       "      <td>4.43</td>\n",
       "      <td>10.14</td>\n",
       "      <td>1.00</td>\n",
       "      <td>NaN</td>\n",
       "      <td>NaN</td>\n",
       "    </tr>\n",
       "    <tr>\n",
       "      <th>4</th>\n",
       "      <td>Ahmedabad</td>\n",
       "      <td>2015-01-05</td>\n",
       "      <td>NaN</td>\n",
       "      <td>NaN</td>\n",
       "      <td>22.10</td>\n",
       "      <td>21.42</td>\n",
       "      <td>37.76</td>\n",
       "      <td>NaN</td>\n",
       "      <td>22.10</td>\n",
       "      <td>39.33</td>\n",
       "      <td>39.31</td>\n",
       "      <td>7.01</td>\n",
       "      <td>18.89</td>\n",
       "      <td>2.78</td>\n",
       "      <td>NaN</td>\n",
       "      <td>NaN</td>\n",
       "    </tr>\n",
       "  </tbody>\n",
       "</table>\n",
       "</div>"
      ],
      "text/plain": [
       "        City        Date  PM2.5  PM10     NO    NO2    NOx  NH3     CO    SO2  \\\n",
       "0  Ahmedabad  2015-01-01    NaN   NaN   0.92  18.22  17.15  NaN   0.92  27.64   \n",
       "1  Ahmedabad  2015-01-02    NaN   NaN   0.97  15.69  16.46  NaN   0.97  24.55   \n",
       "2  Ahmedabad  2015-01-03    NaN   NaN  17.40  19.30  29.70  NaN  17.40  29.07   \n",
       "3  Ahmedabad  2015-01-04    NaN   NaN   1.70  18.48  17.97  NaN   1.70  18.59   \n",
       "4  Ahmedabad  2015-01-05    NaN   NaN  22.10  21.42  37.76  NaN  22.10  39.33   \n",
       "\n",
       "       O3  Benzene  Toluene  Xylene  AQI AQI_Bucket  \n",
       "0  133.36     0.00     0.02    0.00  NaN        NaN  \n",
       "1   34.06     3.68     5.50    3.77  NaN        NaN  \n",
       "2   30.70     6.80    16.40    2.25  NaN        NaN  \n",
       "3   36.08     4.43    10.14    1.00  NaN        NaN  \n",
       "4   39.31     7.01    18.89    2.78  NaN        NaN  "
      ]
     },
     "execution_count": 4,
     "metadata": {},
     "output_type": "execute_result"
    }
   ],
   "source": [
    "# url = \"https://www.kaggle.com/rohanrao/air-quality-data-in-india?select=city_day.csv\"\n",
    "data = pd.read_csv('city_day.csv')\n",
    "df = pd.read_csv('city_day.csv')\n",
    "df.head()"
   ]
  },
  {
   "cell_type": "code",
   "execution_count": 5,
   "metadata": {
    "colab": {
     "base_uri": "https://localhost:8080/"
    },
    "id": "gFhtDzKOEHDa",
    "outputId": "e2662aa2-5d58-442f-b9d3-969c94256a43"
   },
   "outputs": [
    {
     "data": {
      "text/plain": [
       "<bound method Series.unique of 0                 NaN\n",
       "1                 NaN\n",
       "2                 NaN\n",
       "3                 NaN\n",
       "4                 NaN\n",
       "             ...     \n",
       "29526            Good\n",
       "29527    Satisfactory\n",
       "29528    Satisfactory\n",
       "29529    Satisfactory\n",
       "29530            Good\n",
       "Name: AQI_Bucket, Length: 29531, dtype: object>"
      ]
     },
     "execution_count": 5,
     "metadata": {},
     "output_type": "execute_result"
    }
   ],
   "source": [
    "df['AQI_Bucket'].unique"
   ]
  },
  {
   "cell_type": "code",
   "execution_count": 6,
   "metadata": {
    "colab": {
     "base_uri": "https://localhost:8080/"
    },
    "id": "v5zdrBHjegHS",
    "outputId": "54b5539b-3122-4561-ae06-f6d6d213c834"
   },
   "outputs": [
    {
     "name": "stdout",
     "output_type": "stream",
     "text": [
      "Collecting rfpimp\n",
      "  Downloading rfpimp-1.3.7.tar.gz (10 kB)\n",
      "Requirement already satisfied: numpy in c:\\users\\abhin\\anaconda3\\lib\\site-packages (from rfpimp) (1.20.3)\n",
      "Requirement already satisfied: pandas in c:\\users\\abhin\\anaconda3\\lib\\site-packages (from rfpimp) (1.3.4)\n",
      "Requirement already satisfied: scikit-learn in c:\\users\\abhin\\anaconda3\\lib\\site-packages (from rfpimp) (0.24.2)\n",
      "Requirement already satisfied: matplotlib in c:\\users\\abhin\\anaconda3\\lib\\site-packages (from rfpimp) (3.4.3)\n",
      "Requirement already satisfied: pyparsing>=2.2.1 in c:\\users\\abhin\\anaconda3\\lib\\site-packages (from matplotlib->rfpimp) (3.0.4)\n",
      "Requirement already satisfied: kiwisolver>=1.0.1 in c:\\users\\abhin\\anaconda3\\lib\\site-packages (from matplotlib->rfpimp) (1.3.1)\n",
      "Requirement already satisfied: cycler>=0.10 in c:\\users\\abhin\\anaconda3\\lib\\site-packages (from matplotlib->rfpimp) (0.10.0)\n",
      "Requirement already satisfied: python-dateutil>=2.7 in c:\\users\\abhin\\anaconda3\\lib\\site-packages (from matplotlib->rfpimp) (2.8.2)\n",
      "Requirement already satisfied: pillow>=6.2.0 in c:\\users\\abhin\\anaconda3\\lib\\site-packages (from matplotlib->rfpimp) (8.4.0)\n",
      "Requirement already satisfied: six in c:\\users\\abhin\\anaconda3\\lib\\site-packages (from cycler>=0.10->matplotlib->rfpimp) (1.16.0)\n",
      "Requirement already satisfied: pytz>=2017.3 in c:\\users\\abhin\\anaconda3\\lib\\site-packages (from pandas->rfpimp) (2021.3)\n",
      "Requirement already satisfied: joblib>=0.11 in c:\\users\\abhin\\anaconda3\\lib\\site-packages (from scikit-learn->rfpimp) (1.1.0)\n",
      "Requirement already satisfied: scipy>=0.19.1 in c:\\users\\abhin\\anaconda3\\lib\\site-packages (from scikit-learn->rfpimp) (1.7.1)\n",
      "Requirement already satisfied: threadpoolctl>=2.0.0 in c:\\users\\abhin\\anaconda3\\lib\\site-packages (from scikit-learn->rfpimp) (2.2.0)\n",
      "Building wheels for collected packages: rfpimp\n",
      "  Building wheel for rfpimp (setup.py): started\n",
      "  Building wheel for rfpimp (setup.py): finished with status 'done'\n",
      "  Created wheel for rfpimp: filename=rfpimp-1.3.7-py3-none-any.whl size=10667 sha256=111eae8740028fe2f07b0946601f1f30a5642e824831a67637c04adf810d05b4\n",
      "  Stored in directory: c:\\users\\abhin\\appdata\\local\\pip\\cache\\wheels\\d9\\f2\\53\\6d8c73011f73fc347598d683ff8b2343605ad43474ae083816\n",
      "Successfully built rfpimp\n",
      "Installing collected packages: rfpimp\n",
      "Successfully installed rfpimp-1.3.7\n"
     ]
    }
   ],
   "source": [
    "!pip install rfpimp"
   ]
  },
  {
   "cell_type": "markdown",
   "metadata": {
    "id": "TczdK-y-hvA6"
   },
   "source": [
    "Now let's look at some of the basic statistics of our dataset\n",
    "\n",
    "This can be done easily by using describe() method of pandas module \n",
    "\n",
    "It simply shows us various parameters of measure of our dataset."
   ]
  },
  {
   "cell_type": "code",
   "execution_count": 7,
   "metadata": {
    "colab": {
     "base_uri": "https://localhost:8080/",
     "height": 314
    },
    "id": "zDOtQ3k_d9HX",
    "outputId": "2409d409-69e8-42e9-f445-0fd7b207ec47"
   },
   "outputs": [
    {
     "data": {
      "text/html": [
       "<div>\n",
       "<style scoped>\n",
       "    .dataframe tbody tr th:only-of-type {\n",
       "        vertical-align: middle;\n",
       "    }\n",
       "\n",
       "    .dataframe tbody tr th {\n",
       "        vertical-align: top;\n",
       "    }\n",
       "\n",
       "    .dataframe thead th {\n",
       "        text-align: right;\n",
       "    }\n",
       "</style>\n",
       "<table border=\"1\" class=\"dataframe\">\n",
       "  <thead>\n",
       "    <tr style=\"text-align: right;\">\n",
       "      <th></th>\n",
       "      <th>PM2.5</th>\n",
       "      <th>PM10</th>\n",
       "      <th>NO</th>\n",
       "      <th>NO2</th>\n",
       "      <th>NOx</th>\n",
       "      <th>NH3</th>\n",
       "      <th>CO</th>\n",
       "      <th>SO2</th>\n",
       "      <th>O3</th>\n",
       "      <th>Benzene</th>\n",
       "      <th>Toluene</th>\n",
       "      <th>Xylene</th>\n",
       "      <th>AQI</th>\n",
       "    </tr>\n",
       "  </thead>\n",
       "  <tbody>\n",
       "    <tr>\n",
       "      <th>count</th>\n",
       "      <td>24933.000000</td>\n",
       "      <td>18391.000000</td>\n",
       "      <td>25949.000000</td>\n",
       "      <td>25946.000000</td>\n",
       "      <td>25346.000000</td>\n",
       "      <td>19203.000000</td>\n",
       "      <td>27472.000000</td>\n",
       "      <td>25677.000000</td>\n",
       "      <td>25509.000000</td>\n",
       "      <td>23908.000000</td>\n",
       "      <td>21490.000000</td>\n",
       "      <td>11422.000000</td>\n",
       "      <td>24850.000000</td>\n",
       "    </tr>\n",
       "    <tr>\n",
       "      <th>mean</th>\n",
       "      <td>67.450578</td>\n",
       "      <td>118.127103</td>\n",
       "      <td>17.574730</td>\n",
       "      <td>28.560659</td>\n",
       "      <td>32.309123</td>\n",
       "      <td>23.483476</td>\n",
       "      <td>2.248598</td>\n",
       "      <td>14.531977</td>\n",
       "      <td>34.491430</td>\n",
       "      <td>3.280840</td>\n",
       "      <td>8.700972</td>\n",
       "      <td>3.070128</td>\n",
       "      <td>166.463581</td>\n",
       "    </tr>\n",
       "    <tr>\n",
       "      <th>std</th>\n",
       "      <td>64.661449</td>\n",
       "      <td>90.605110</td>\n",
       "      <td>22.785846</td>\n",
       "      <td>24.474746</td>\n",
       "      <td>31.646011</td>\n",
       "      <td>25.684275</td>\n",
       "      <td>6.962884</td>\n",
       "      <td>18.133775</td>\n",
       "      <td>21.694928</td>\n",
       "      <td>15.811136</td>\n",
       "      <td>19.969164</td>\n",
       "      <td>6.323247</td>\n",
       "      <td>140.696585</td>\n",
       "    </tr>\n",
       "    <tr>\n",
       "      <th>min</th>\n",
       "      <td>0.040000</td>\n",
       "      <td>0.010000</td>\n",
       "      <td>0.020000</td>\n",
       "      <td>0.010000</td>\n",
       "      <td>0.000000</td>\n",
       "      <td>0.010000</td>\n",
       "      <td>0.000000</td>\n",
       "      <td>0.010000</td>\n",
       "      <td>0.010000</td>\n",
       "      <td>0.000000</td>\n",
       "      <td>0.000000</td>\n",
       "      <td>0.000000</td>\n",
       "      <td>13.000000</td>\n",
       "    </tr>\n",
       "    <tr>\n",
       "      <th>25%</th>\n",
       "      <td>28.820000</td>\n",
       "      <td>56.255000</td>\n",
       "      <td>5.630000</td>\n",
       "      <td>11.750000</td>\n",
       "      <td>12.820000</td>\n",
       "      <td>8.580000</td>\n",
       "      <td>0.510000</td>\n",
       "      <td>5.670000</td>\n",
       "      <td>18.860000</td>\n",
       "      <td>0.120000</td>\n",
       "      <td>0.600000</td>\n",
       "      <td>0.140000</td>\n",
       "      <td>81.000000</td>\n",
       "    </tr>\n",
       "    <tr>\n",
       "      <th>50%</th>\n",
       "      <td>48.570000</td>\n",
       "      <td>95.680000</td>\n",
       "      <td>9.890000</td>\n",
       "      <td>21.690000</td>\n",
       "      <td>23.520000</td>\n",
       "      <td>15.850000</td>\n",
       "      <td>0.890000</td>\n",
       "      <td>9.160000</td>\n",
       "      <td>30.840000</td>\n",
       "      <td>1.070000</td>\n",
       "      <td>2.970000</td>\n",
       "      <td>0.980000</td>\n",
       "      <td>118.000000</td>\n",
       "    </tr>\n",
       "    <tr>\n",
       "      <th>75%</th>\n",
       "      <td>80.590000</td>\n",
       "      <td>149.745000</td>\n",
       "      <td>19.950000</td>\n",
       "      <td>37.620000</td>\n",
       "      <td>40.127500</td>\n",
       "      <td>30.020000</td>\n",
       "      <td>1.450000</td>\n",
       "      <td>15.220000</td>\n",
       "      <td>45.570000</td>\n",
       "      <td>3.080000</td>\n",
       "      <td>9.150000</td>\n",
       "      <td>3.350000</td>\n",
       "      <td>208.000000</td>\n",
       "    </tr>\n",
       "    <tr>\n",
       "      <th>max</th>\n",
       "      <td>949.990000</td>\n",
       "      <td>1000.000000</td>\n",
       "      <td>390.680000</td>\n",
       "      <td>362.210000</td>\n",
       "      <td>467.630000</td>\n",
       "      <td>352.890000</td>\n",
       "      <td>175.810000</td>\n",
       "      <td>193.860000</td>\n",
       "      <td>257.730000</td>\n",
       "      <td>455.030000</td>\n",
       "      <td>454.850000</td>\n",
       "      <td>170.370000</td>\n",
       "      <td>2049.000000</td>\n",
       "    </tr>\n",
       "  </tbody>\n",
       "</table>\n",
       "</div>"
      ],
      "text/plain": [
       "              PM2.5          PM10            NO           NO2           NOx  \\\n",
       "count  24933.000000  18391.000000  25949.000000  25946.000000  25346.000000   \n",
       "mean      67.450578    118.127103     17.574730     28.560659     32.309123   \n",
       "std       64.661449     90.605110     22.785846     24.474746     31.646011   \n",
       "min        0.040000      0.010000      0.020000      0.010000      0.000000   \n",
       "25%       28.820000     56.255000      5.630000     11.750000     12.820000   \n",
       "50%       48.570000     95.680000      9.890000     21.690000     23.520000   \n",
       "75%       80.590000    149.745000     19.950000     37.620000     40.127500   \n",
       "max      949.990000   1000.000000    390.680000    362.210000    467.630000   \n",
       "\n",
       "                NH3            CO           SO2            O3       Benzene  \\\n",
       "count  19203.000000  27472.000000  25677.000000  25509.000000  23908.000000   \n",
       "mean      23.483476      2.248598     14.531977     34.491430      3.280840   \n",
       "std       25.684275      6.962884     18.133775     21.694928     15.811136   \n",
       "min        0.010000      0.000000      0.010000      0.010000      0.000000   \n",
       "25%        8.580000      0.510000      5.670000     18.860000      0.120000   \n",
       "50%       15.850000      0.890000      9.160000     30.840000      1.070000   \n",
       "75%       30.020000      1.450000     15.220000     45.570000      3.080000   \n",
       "max      352.890000    175.810000    193.860000    257.730000    455.030000   \n",
       "\n",
       "            Toluene        Xylene           AQI  \n",
       "count  21490.000000  11422.000000  24850.000000  \n",
       "mean       8.700972      3.070128    166.463581  \n",
       "std       19.969164      6.323247    140.696585  \n",
       "min        0.000000      0.000000     13.000000  \n",
       "25%        0.600000      0.140000     81.000000  \n",
       "50%        2.970000      0.980000    118.000000  \n",
       "75%        9.150000      3.350000    208.000000  \n",
       "max      454.850000    170.370000   2049.000000  "
      ]
     },
     "execution_count": 7,
     "metadata": {},
     "output_type": "execute_result"
    }
   ],
   "source": [
    "df.describe()"
   ]
  },
  {
   "cell_type": "markdown",
   "metadata": {
    "id": "YxcO1gAEiGDM"
   },
   "source": [
    "*describe()* method gives only the statistical acumen.\n",
    "\n",
    "For more additional information like **datatypes, null values, column names, number of columns** regarding our data, we use *info()* "
   ]
  },
  {
   "cell_type": "code",
   "execution_count": 8,
   "metadata": {
    "colab": {
     "base_uri": "https://localhost:8080/"
    },
    "id": "S5BSpaWbhtxf",
    "outputId": "47a4bce8-15e6-4c69-cb7b-3e7cc8616f5f"
   },
   "outputs": [
    {
     "name": "stdout",
     "output_type": "stream",
     "text": [
      "<class 'pandas.core.frame.DataFrame'>\n",
      "RangeIndex: 29531 entries, 0 to 29530\n",
      "Data columns (total 16 columns):\n",
      " #   Column      Non-Null Count  Dtype  \n",
      "---  ------      --------------  -----  \n",
      " 0   City        29531 non-null  object \n",
      " 1   Date        29531 non-null  object \n",
      " 2   PM2.5       24933 non-null  float64\n",
      " 3   PM10        18391 non-null  float64\n",
      " 4   NO          25949 non-null  float64\n",
      " 5   NO2         25946 non-null  float64\n",
      " 6   NOx         25346 non-null  float64\n",
      " 7   NH3         19203 non-null  float64\n",
      " 8   CO          27472 non-null  float64\n",
      " 9   SO2         25677 non-null  float64\n",
      " 10  O3          25509 non-null  float64\n",
      " 11  Benzene     23908 non-null  float64\n",
      " 12  Toluene     21490 non-null  float64\n",
      " 13  Xylene      11422 non-null  float64\n",
      " 14  AQI         24850 non-null  float64\n",
      " 15  AQI_Bucket  24850 non-null  object \n",
      "dtypes: float64(13), object(3)\n",
      "memory usage: 3.6+ MB\n"
     ]
    }
   ],
   "source": [
    "df.info()"
   ]
  },
  {
   "cell_type": "markdown",
   "metadata": {
    "id": "ZLIpn0IgjJhZ"
   },
   "source": [
    "One more conclusions can be made from our ***info()*** that the count of values in each column is not constant i.e. There is a possibility of having some **null values** in out dataset.\n",
    "\n",
    "Now, let's find them."
   ]
  },
  {
   "cell_type": "code",
   "execution_count": 9,
   "metadata": {
    "colab": {
     "base_uri": "https://localhost:8080/"
    },
    "id": "gR8EzTpSjCqz",
    "outputId": "0a945a42-ec42-4089-f168-295fe37aff19"
   },
   "outputs": [
    {
     "data": {
      "text/plain": [
       "City              0\n",
       "Date              0\n",
       "PM2.5          4598\n",
       "PM10          11140\n",
       "NO             3582\n",
       "NO2            3585\n",
       "NOx            4185\n",
       "NH3           10328\n",
       "CO             2059\n",
       "SO2            3854\n",
       "O3             4022\n",
       "Benzene        5623\n",
       "Toluene        8041\n",
       "Xylene        18109\n",
       "AQI            4681\n",
       "AQI_Bucket     4681\n",
       "dtype: int64"
      ]
     },
     "execution_count": 9,
     "metadata": {},
     "output_type": "execute_result"
    }
   ],
   "source": [
    "df.isna().sum()"
   ]
  },
  {
   "cell_type": "markdown",
   "metadata": {
    "id": "W6yVbUo1kVU0"
   },
   "source": [
    "Here we can see that there are null values in all the columns except *City* and *Date*"
   ]
  },
  {
   "cell_type": "markdown",
   "metadata": {
    "id": "m94DsRUyi38E"
   },
   "source": [
    "After looking at the info of our dataset, we can see that there are total **16 columns** in our data. \n",
    "\n",
    "Let's name them."
   ]
  },
  {
   "cell_type": "code",
   "execution_count": 10,
   "metadata": {
    "colab": {
     "base_uri": "https://localhost:8080/"
    },
    "id": "MKpwMYrpiE3c",
    "outputId": "40d198fb-39ba-4147-d34a-b921b81e0156"
   },
   "outputs": [
    {
     "data": {
      "text/plain": [
       "Index(['City', 'Date', 'PM2.5', 'PM10', 'NO', 'NO2', 'NOx', 'NH3', 'CO', 'SO2',\n",
       "       'O3', 'Benzene', 'Toluene', 'Xylene', 'AQI', 'AQI_Bucket'],\n",
       "      dtype='object')"
      ]
     },
     "execution_count": 10,
     "metadata": {},
     "output_type": "execute_result"
    }
   ],
   "source": [
    "df.columns"
   ]
  },
  {
   "cell_type": "code",
   "execution_count": 11,
   "metadata": {
    "colab": {
     "base_uri": "https://localhost:8080/",
     "height": 361
    },
    "id": "xd1l5k4zkTOA",
    "outputId": "32b9853d-8753-407d-e1fa-70de0c1e8b3d"
   },
   "outputs": [
    {
     "data": {
      "text/html": [
       "<style type=\"text/css\">\n",
       "#T_dd277_row0_col0 {\n",
       "  background-color: #08306b;\n",
       "  color: #f1f1f1;\n",
       "}\n",
       "#T_dd277_row1_col0 {\n",
       "  background-color: #4594c7;\n",
       "  color: #f1f1f1;\n",
       "}\n",
       "#T_dd277_row2_col0 {\n",
       "  background-color: #539ecd;\n",
       "  color: #f1f1f1;\n",
       "}\n",
       "#T_dd277_row3_col0 {\n",
       "  background-color: #82bbdb;\n",
       "  color: #000000;\n",
       "}\n",
       "#T_dd277_row4_col0 {\n",
       "  background-color: #b3d3e8;\n",
       "  color: #000000;\n",
       "}\n",
       "#T_dd277_row5_col0, #T_dd277_row6_col0 {\n",
       "  background-color: #c3daee;\n",
       "  color: #000000;\n",
       "}\n",
       "#T_dd277_row7_col0 {\n",
       "  background-color: #c4daee;\n",
       "  color: #000000;\n",
       "}\n",
       "#T_dd277_row8_col0 {\n",
       "  background-color: #caddf0;\n",
       "  color: #000000;\n",
       "}\n",
       "#T_dd277_row9_col0 {\n",
       "  background-color: #ccdff1;\n",
       "  color: #000000;\n",
       "}\n",
       "#T_dd277_row10_col0 {\n",
       "  background-color: #cde0f1;\n",
       "  color: #000000;\n",
       "}\n",
       "#T_dd277_row11_col0, #T_dd277_row12_col0 {\n",
       "  background-color: #d0e2f2;\n",
       "  color: #000000;\n",
       "}\n",
       "#T_dd277_row13_col0 {\n",
       "  background-color: #e0ecf8;\n",
       "  color: #000000;\n",
       "}\n",
       "#T_dd277_row14_col0, #T_dd277_row15_col0 {\n",
       "  background-color: #f7fbff;\n",
       "  color: #000000;\n",
       "}\n",
       "</style>\n",
       "<table id=\"T_dd277_\">\n",
       "  <thead>\n",
       "    <tr>\n",
       "      <th class=\"blank level0\" >&nbsp;</th>\n",
       "      <th class=\"col_heading level0 col0\" >Proportion</th>\n",
       "    </tr>\n",
       "  </thead>\n",
       "  <tbody>\n",
       "    <tr>\n",
       "      <th id=\"T_dd277_level0_row0\" class=\"row_heading level0 row0\" >Xylene</th>\n",
       "      <td id=\"T_dd277_row0_col0\" class=\"data row0 col0\" >0.613220</td>\n",
       "    </tr>\n",
       "    <tr>\n",
       "      <th id=\"T_dd277_level0_row1\" class=\"row_heading level0 row1\" >PM10</th>\n",
       "      <td id=\"T_dd277_row1_col0\" class=\"data row1 col0\" >0.377231</td>\n",
       "    </tr>\n",
       "    <tr>\n",
       "      <th id=\"T_dd277_level0_row2\" class=\"row_heading level0 row2\" >NH3</th>\n",
       "      <td id=\"T_dd277_row2_col0\" class=\"data row2 col0\" >0.349734</td>\n",
       "    </tr>\n",
       "    <tr>\n",
       "      <th id=\"T_dd277_level0_row3\" class=\"row_heading level0 row3\" >Toluene</th>\n",
       "      <td id=\"T_dd277_row3_col0\" class=\"data row3 col0\" >0.272290</td>\n",
       "    </tr>\n",
       "    <tr>\n",
       "      <th id=\"T_dd277_level0_row4\" class=\"row_heading level0 row4\" >Benzene</th>\n",
       "      <td id=\"T_dd277_row4_col0\" class=\"data row4 col0\" >0.190410</td>\n",
       "    </tr>\n",
       "    <tr>\n",
       "      <th id=\"T_dd277_level0_row5\" class=\"row_heading level0 row5\" >AQI</th>\n",
       "      <td id=\"T_dd277_row5_col0\" class=\"data row5 col0\" >0.158511</td>\n",
       "    </tr>\n",
       "    <tr>\n",
       "      <th id=\"T_dd277_level0_row6\" class=\"row_heading level0 row6\" >AQI_Bucket</th>\n",
       "      <td id=\"T_dd277_row6_col0\" class=\"data row6 col0\" >0.158511</td>\n",
       "    </tr>\n",
       "    <tr>\n",
       "      <th id=\"T_dd277_level0_row7\" class=\"row_heading level0 row7\" >PM2.5</th>\n",
       "      <td id=\"T_dd277_row7_col0\" class=\"data row7 col0\" >0.155701</td>\n",
       "    </tr>\n",
       "    <tr>\n",
       "      <th id=\"T_dd277_level0_row8\" class=\"row_heading level0 row8\" >NOx</th>\n",
       "      <td id=\"T_dd277_row8_col0\" class=\"data row8 col0\" >0.141715</td>\n",
       "    </tr>\n",
       "    <tr>\n",
       "      <th id=\"T_dd277_level0_row9\" class=\"row_heading level0 row9\" >O3</th>\n",
       "      <td id=\"T_dd277_row9_col0\" class=\"data row9 col0\" >0.136196</td>\n",
       "    </tr>\n",
       "    <tr>\n",
       "      <th id=\"T_dd277_level0_row10\" class=\"row_heading level0 row10\" >SO2</th>\n",
       "      <td id=\"T_dd277_row10_col0\" class=\"data row10 col0\" >0.130507</td>\n",
       "    </tr>\n",
       "    <tr>\n",
       "      <th id=\"T_dd277_level0_row11\" class=\"row_heading level0 row11\" >NO2</th>\n",
       "      <td id=\"T_dd277_row11_col0\" class=\"data row11 col0\" >0.121398</td>\n",
       "    </tr>\n",
       "    <tr>\n",
       "      <th id=\"T_dd277_level0_row12\" class=\"row_heading level0 row12\" >NO</th>\n",
       "      <td id=\"T_dd277_row12_col0\" class=\"data row12 col0\" >0.121296</td>\n",
       "    </tr>\n",
       "    <tr>\n",
       "      <th id=\"T_dd277_level0_row13\" class=\"row_heading level0 row13\" >CO</th>\n",
       "      <td id=\"T_dd277_row13_col0\" class=\"data row13 col0\" >0.069723</td>\n",
       "    </tr>\n",
       "    <tr>\n",
       "      <th id=\"T_dd277_level0_row14\" class=\"row_heading level0 row14\" >City</th>\n",
       "      <td id=\"T_dd277_row14_col0\" class=\"data row14 col0\" >0.000000</td>\n",
       "    </tr>\n",
       "    <tr>\n",
       "      <th id=\"T_dd277_level0_row15\" class=\"row_heading level0 row15\" >Date</th>\n",
       "      <td id=\"T_dd277_row15_col0\" class=\"data row15 col0\" >0.000000</td>\n",
       "    </tr>\n",
       "  </tbody>\n",
       "</table>\n"
      ],
      "text/plain": [
       "<pandas.io.formats.style.Styler at 0x186f2d42160>"
      ]
     },
     "execution_count": 11,
     "metadata": {},
     "output_type": "execute_result"
    }
   ],
   "source": [
    "missing_val = pd.DataFrame(df.isna().sum()/len(df))\n",
    "missing_val.columns = ['Proportion']\n",
    "missing_val = missing_val.sort_values(by = 'Proportion', ascending=False)\n",
    "missing_val.style.background_gradient(cmap='Blues')"
   ]
  },
  {
   "cell_type": "markdown",
   "metadata": {
    "id": "7ibW2VlnyWHC"
   },
   "source": [
    "Here we just calculated the proportion of null values in each of the features using **isna()** method which simply fetches the NULL values.\n"
   ]
  },
  {
   "cell_type": "markdown",
   "metadata": {
    "id": "r6dca9lLVoGd"
   },
   "source": [
    "### Let's do a little bit of data cleaning"
   ]
  },
  {
   "cell_type": "markdown",
   "metadata": {
    "id": "w5a1REEwXEGx"
   },
   "source": [
    "We'll start by dealing with the null values\n",
    "\n",
    "Here instead of eliminating the NULL values, we can fill them with mean values for numerical values"
   ]
  },
  {
   "cell_type": "code",
   "execution_count": 12,
   "metadata": {
    "colab": {
     "base_uri": "https://localhost:8080/",
     "height": 202
    },
    "id": "SMbTdhPVeoEy",
    "outputId": "449518d6-e758-4d04-a43f-240a9226c660"
   },
   "outputs": [
    {
     "data": {
      "text/html": [
       "<div>\n",
       "<style scoped>\n",
       "    .dataframe tbody tr th:only-of-type {\n",
       "        vertical-align: middle;\n",
       "    }\n",
       "\n",
       "    .dataframe tbody tr th {\n",
       "        vertical-align: top;\n",
       "    }\n",
       "\n",
       "    .dataframe thead th {\n",
       "        text-align: right;\n",
       "    }\n",
       "</style>\n",
       "<table border=\"1\" class=\"dataframe\">\n",
       "  <thead>\n",
       "    <tr style=\"text-align: right;\">\n",
       "      <th></th>\n",
       "      <th>City</th>\n",
       "      <th>Date</th>\n",
       "      <th>PM2.5</th>\n",
       "      <th>PM10</th>\n",
       "      <th>NO</th>\n",
       "      <th>NO2</th>\n",
       "      <th>NOx</th>\n",
       "      <th>NH3</th>\n",
       "      <th>CO</th>\n",
       "      <th>SO2</th>\n",
       "      <th>O3</th>\n",
       "      <th>Benzene</th>\n",
       "      <th>Toluene</th>\n",
       "      <th>Xylene</th>\n",
       "      <th>AQI</th>\n",
       "      <th>AQI_Bucket</th>\n",
       "    </tr>\n",
       "  </thead>\n",
       "  <tbody>\n",
       "    <tr>\n",
       "      <th>0</th>\n",
       "      <td>Ahmedabad</td>\n",
       "      <td>2015-01-01</td>\n",
       "      <td>67.450578</td>\n",
       "      <td>118.127103</td>\n",
       "      <td>0.92</td>\n",
       "      <td>18.22</td>\n",
       "      <td>17.15</td>\n",
       "      <td>23.483476</td>\n",
       "      <td>0.92</td>\n",
       "      <td>27.64</td>\n",
       "      <td>133.36</td>\n",
       "      <td>0.00</td>\n",
       "      <td>0.02</td>\n",
       "      <td>0.00</td>\n",
       "      <td>166.463581</td>\n",
       "      <td>Not Known</td>\n",
       "    </tr>\n",
       "    <tr>\n",
       "      <th>1</th>\n",
       "      <td>Ahmedabad</td>\n",
       "      <td>2015-01-02</td>\n",
       "      <td>67.450578</td>\n",
       "      <td>118.127103</td>\n",
       "      <td>0.97</td>\n",
       "      <td>15.69</td>\n",
       "      <td>16.46</td>\n",
       "      <td>23.483476</td>\n",
       "      <td>0.97</td>\n",
       "      <td>24.55</td>\n",
       "      <td>34.06</td>\n",
       "      <td>3.68</td>\n",
       "      <td>5.50</td>\n",
       "      <td>3.77</td>\n",
       "      <td>166.463581</td>\n",
       "      <td>Not Known</td>\n",
       "    </tr>\n",
       "    <tr>\n",
       "      <th>2</th>\n",
       "      <td>Ahmedabad</td>\n",
       "      <td>2015-01-03</td>\n",
       "      <td>67.450578</td>\n",
       "      <td>118.127103</td>\n",
       "      <td>17.40</td>\n",
       "      <td>19.30</td>\n",
       "      <td>29.70</td>\n",
       "      <td>23.483476</td>\n",
       "      <td>17.40</td>\n",
       "      <td>29.07</td>\n",
       "      <td>30.70</td>\n",
       "      <td>6.80</td>\n",
       "      <td>16.40</td>\n",
       "      <td>2.25</td>\n",
       "      <td>166.463581</td>\n",
       "      <td>Not Known</td>\n",
       "    </tr>\n",
       "    <tr>\n",
       "      <th>3</th>\n",
       "      <td>Ahmedabad</td>\n",
       "      <td>2015-01-04</td>\n",
       "      <td>67.450578</td>\n",
       "      <td>118.127103</td>\n",
       "      <td>1.70</td>\n",
       "      <td>18.48</td>\n",
       "      <td>17.97</td>\n",
       "      <td>23.483476</td>\n",
       "      <td>1.70</td>\n",
       "      <td>18.59</td>\n",
       "      <td>36.08</td>\n",
       "      <td>4.43</td>\n",
       "      <td>10.14</td>\n",
       "      <td>1.00</td>\n",
       "      <td>166.463581</td>\n",
       "      <td>Not Known</td>\n",
       "    </tr>\n",
       "    <tr>\n",
       "      <th>4</th>\n",
       "      <td>Ahmedabad</td>\n",
       "      <td>2015-01-05</td>\n",
       "      <td>67.450578</td>\n",
       "      <td>118.127103</td>\n",
       "      <td>22.10</td>\n",
       "      <td>21.42</td>\n",
       "      <td>37.76</td>\n",
       "      <td>23.483476</td>\n",
       "      <td>22.10</td>\n",
       "      <td>39.33</td>\n",
       "      <td>39.31</td>\n",
       "      <td>7.01</td>\n",
       "      <td>18.89</td>\n",
       "      <td>2.78</td>\n",
       "      <td>166.463581</td>\n",
       "      <td>Not Known</td>\n",
       "    </tr>\n",
       "  </tbody>\n",
       "</table>\n",
       "</div>"
      ],
      "text/plain": [
       "        City        Date      PM2.5        PM10     NO    NO2    NOx  \\\n",
       "0  Ahmedabad  2015-01-01  67.450578  118.127103   0.92  18.22  17.15   \n",
       "1  Ahmedabad  2015-01-02  67.450578  118.127103   0.97  15.69  16.46   \n",
       "2  Ahmedabad  2015-01-03  67.450578  118.127103  17.40  19.30  29.70   \n",
       "3  Ahmedabad  2015-01-04  67.450578  118.127103   1.70  18.48  17.97   \n",
       "4  Ahmedabad  2015-01-05  67.450578  118.127103  22.10  21.42  37.76   \n",
       "\n",
       "         NH3     CO    SO2      O3  Benzene  Toluene  Xylene         AQI  \\\n",
       "0  23.483476   0.92  27.64  133.36     0.00     0.02    0.00  166.463581   \n",
       "1  23.483476   0.97  24.55   34.06     3.68     5.50    3.77  166.463581   \n",
       "2  23.483476  17.40  29.07   30.70     6.80    16.40    2.25  166.463581   \n",
       "3  23.483476   1.70  18.59   36.08     4.43    10.14    1.00  166.463581   \n",
       "4  23.483476  22.10  39.33   39.31     7.01    18.89    2.78  166.463581   \n",
       "\n",
       "  AQI_Bucket  \n",
       "0  Not Known  \n",
       "1  Not Known  \n",
       "2  Not Known  \n",
       "3  Not Known  \n",
       "4  Not Known  "
      ]
     },
     "execution_count": 12,
     "metadata": {},
     "output_type": "execute_result"
    }
   ],
   "source": [
    "for col in data.columns:\n",
    "    if data[col].dtype ==\"O\":\n",
    "        continue\n",
    "    else:\n",
    "        data[col] = data[col].fillna(data[col].mean())\n",
    "\n",
    "data['AQI_Bucket'] = data['AQI_Bucket'].fillna('Not Known')\n",
    "data.head()"
   ]
  },
  {
   "cell_type": "markdown",
   "metadata": {
    "id": "bQMVra2BXV01"
   },
   "source": [
    "We just filled our Nan and NULL values with their mean and customly defined values."
   ]
  },
  {
   "cell_type": "code",
   "execution_count": 13,
   "metadata": {
    "colab": {
     "base_uri": "https://localhost:8080/"
    },
    "id": "rU1B40c9fk0F",
    "outputId": "1c1ec45f-f0cc-4a20-867e-314061ee6fb1"
   },
   "outputs": [
    {
     "data": {
      "text/plain": [
       "City          29531\n",
       "Date          29531\n",
       "PM2.5         29531\n",
       "PM10          29531\n",
       "NO            29531\n",
       "NO2           29531\n",
       "NOx           29531\n",
       "NH3           29531\n",
       "CO            29531\n",
       "SO2           29531\n",
       "O3            29531\n",
       "Benzene       29531\n",
       "Toluene       29531\n",
       "Xylene        29531\n",
       "AQI           29531\n",
       "AQI_Bucket    29531\n",
       "dtype: int64"
      ]
     },
     "execution_count": 13,
     "metadata": {},
     "output_type": "execute_result"
    }
   ],
   "source": [
    "data.isna().count()"
   ]
  },
  {
   "cell_type": "markdown",
   "metadata": {
    "id": "pkpavHU9XeZp"
   },
   "source": [
    "Now, we can see in our dataset that data is distributed on daily basis, it will become a tedious task if we will be going on daily basis data for training our model at firsthand. So to make things simple let's ground data on monthly basis for five years.\n",
    "It will give us a fair idea about the fairness of data as well about the performance of our model on testing data."
   ]
  },
  {
   "cell_type": "code",
   "execution_count": 14,
   "metadata": {
    "colab": {
     "base_uri": "https://localhost:8080/",
     "height": 233
    },
    "id": "Y-4Z1mT2gC8B",
    "outputId": "45f1c1c9-bd08-4bd5-986b-45c38b9e46ac"
   },
   "outputs": [
    {
     "data": {
      "text/html": [
       "<div>\n",
       "<style scoped>\n",
       "    .dataframe tbody tr th:only-of-type {\n",
       "        vertical-align: middle;\n",
       "    }\n",
       "\n",
       "    .dataframe tbody tr th {\n",
       "        vertical-align: top;\n",
       "    }\n",
       "\n",
       "    .dataframe thead th {\n",
       "        text-align: right;\n",
       "    }\n",
       "</style>\n",
       "<table border=\"1\" class=\"dataframe\">\n",
       "  <thead>\n",
       "    <tr style=\"text-align: right;\">\n",
       "      <th></th>\n",
       "      <th></th>\n",
       "      <th></th>\n",
       "      <th>PM2.5</th>\n",
       "      <th>PM10</th>\n",
       "      <th>NOx</th>\n",
       "      <th>CO</th>\n",
       "      <th>NH3</th>\n",
       "      <th>O3</th>\n",
       "      <th>SO2</th>\n",
       "      <th>Benzene</th>\n",
       "      <th>Toluene</th>\n",
       "      <th>Xylene</th>\n",
       "      <th>AQI</th>\n",
       "    </tr>\n",
       "    <tr>\n",
       "      <th>City</th>\n",
       "      <th>Year</th>\n",
       "      <th>Month</th>\n",
       "      <th></th>\n",
       "      <th></th>\n",
       "      <th></th>\n",
       "      <th></th>\n",
       "      <th></th>\n",
       "      <th></th>\n",
       "      <th></th>\n",
       "      <th></th>\n",
       "      <th></th>\n",
       "      <th></th>\n",
       "      <th></th>\n",
       "    </tr>\n",
       "  </thead>\n",
       "  <tbody>\n",
       "    <tr>\n",
       "      <th rowspan=\"5\" valign=\"top\">Ahmedabad</th>\n",
       "      <th rowspan=\"5\" valign=\"top\">2015</th>\n",
       "      <th>1</th>\n",
       "      <td>69.415987</td>\n",
       "      <td>118.127103</td>\n",
       "      <td>39.480968</td>\n",
       "      <td>22.424793</td>\n",
       "      <td>23.483476</td>\n",
       "      <td>46.350645</td>\n",
       "      <td>43.602903</td>\n",
       "      <td>1.463871</td>\n",
       "      <td>2.531290</td>\n",
       "      <td>2.976452</td>\n",
       "      <td>184.257428</td>\n",
       "    </tr>\n",
       "    <tr>\n",
       "      <th>2</th>\n",
       "      <td>110.888990</td>\n",
       "      <td>118.127103</td>\n",
       "      <td>49.005263</td>\n",
       "      <td>19.723064</td>\n",
       "      <td>23.483476</td>\n",
       "      <td>47.133368</td>\n",
       "      <td>57.980212</td>\n",
       "      <td>8.059019</td>\n",
       "      <td>21.669390</td>\n",
       "      <td>7.241442</td>\n",
       "      <td>482.692527</td>\n",
       "    </tr>\n",
       "    <tr>\n",
       "      <th>3</th>\n",
       "      <td>109.081632</td>\n",
       "      <td>118.127103</td>\n",
       "      <td>40.930617</td>\n",
       "      <td>13.658019</td>\n",
       "      <td>23.483476</td>\n",
       "      <td>45.389401</td>\n",
       "      <td>57.443935</td>\n",
       "      <td>10.720995</td>\n",
       "      <td>27.081322</td>\n",
       "      <td>4.040649</td>\n",
       "      <td>394.173895</td>\n",
       "    </tr>\n",
       "    <tr>\n",
       "      <th>4</th>\n",
       "      <td>101.682000</td>\n",
       "      <td>118.127103</td>\n",
       "      <td>26.932333</td>\n",
       "      <td>7.306333</td>\n",
       "      <td>23.483476</td>\n",
       "      <td>31.376000</td>\n",
       "      <td>51.233333</td>\n",
       "      <td>2.681333</td>\n",
       "      <td>7.461000</td>\n",
       "      <td>4.354000</td>\n",
       "      <td>284.943930</td>\n",
       "    </tr>\n",
       "    <tr>\n",
       "      <th>5</th>\n",
       "      <td>74.919355</td>\n",
       "      <td>118.127103</td>\n",
       "      <td>24.751935</td>\n",
       "      <td>8.529677</td>\n",
       "      <td>23.483476</td>\n",
       "      <td>31.624194</td>\n",
       "      <td>35.977419</td>\n",
       "      <td>3.690968</td>\n",
       "      <td>10.779677</td>\n",
       "      <td>5.206774</td>\n",
       "      <td>260.337535</td>\n",
       "    </tr>\n",
       "  </tbody>\n",
       "</table>\n",
       "</div>"
      ],
      "text/plain": [
       "                           PM2.5        PM10        NOx         CO        NH3  \\\n",
       "City      Year Month                                                            \n",
       "Ahmedabad 2015 1       69.415987  118.127103  39.480968  22.424793  23.483476   \n",
       "               2      110.888990  118.127103  49.005263  19.723064  23.483476   \n",
       "               3      109.081632  118.127103  40.930617  13.658019  23.483476   \n",
       "               4      101.682000  118.127103  26.932333   7.306333  23.483476   \n",
       "               5       74.919355  118.127103  24.751935   8.529677  23.483476   \n",
       "\n",
       "                             O3        SO2    Benzene    Toluene    Xylene  \\\n",
       "City      Year Month                                                         \n",
       "Ahmedabad 2015 1      46.350645  43.602903   1.463871   2.531290  2.976452   \n",
       "               2      47.133368  57.980212   8.059019  21.669390  7.241442   \n",
       "               3      45.389401  57.443935  10.720995  27.081322  4.040649   \n",
       "               4      31.376000  51.233333   2.681333   7.461000  4.354000   \n",
       "               5      31.624194  35.977419   3.690968  10.779677  5.206774   \n",
       "\n",
       "                             AQI  \n",
       "City      Year Month              \n",
       "Ahmedabad 2015 1      184.257428  \n",
       "               2      482.692527  \n",
       "               3      394.173895  \n",
       "               4      284.943930  \n",
       "               5      260.337535  "
      ]
     },
     "execution_count": 14,
     "metadata": {},
     "output_type": "execute_result"
    }
   ],
   "source": [
    "dataf = pd.DataFrame(data)\n",
    "dataf['Year'] = pd.DatetimeIndex(dataf['Date']).year\n",
    "dataf['Month'] = pd.DatetimeIndex(dataf['Date']).month\n",
    "dataf = dataf.groupby(['City', 'Year','Month'])[['PM2.5', 'PM10','NOx','CO','NH3','O3','SO2','Benzene','Toluene','Xylene','AQI']].mean()\n",
    "dataf.reset_index(['City','Year','Month'])\n",
    "dataf.head()"
   ]
  },
  {
   "cell_type": "markdown",
   "metadata": {
    "id": "6Fjz1Rx8X-ep"
   },
   "source": [
    "NOTE: It's a good practice to version the data ans your work for future references."
   ]
  },
  {
   "cell_type": "code",
   "execution_count": 15,
   "metadata": {
    "id": "kCXc92ULwaCi"
   },
   "outputs": [],
   "source": [
    "dataf.to_csv('data.csv')"
   ]
  },
  {
   "cell_type": "markdown",
   "metadata": {
    "id": "cvyihwX8YLjf"
   },
   "source": [
    "Now, as we transformed our data on monthly basis we lost our **AQI_Bucket** column in order to group all the numerical columns(features).\n",
    "\n",
    "So, now let's include it back in our data.\n",
    "\n",
    "It has a simple function of classifying the AQI into different buckets like normal, moderate, unhealthy, hazardous, etc..."
   ]
  },
  {
   "cell_type": "code",
   "execution_count": 16,
   "metadata": {
    "colab": {
     "base_uri": "https://localhost:8080/",
     "height": 233
    },
    "id": "U_yiNMGOB77k",
    "outputId": "ef070b26-e3d7-4e88-80c5-866568be244e"
   },
   "outputs": [
    {
     "data": {
      "text/html": [
       "<div>\n",
       "<style scoped>\n",
       "    .dataframe tbody tr th:only-of-type {\n",
       "        vertical-align: middle;\n",
       "    }\n",
       "\n",
       "    .dataframe tbody tr th {\n",
       "        vertical-align: top;\n",
       "    }\n",
       "\n",
       "    .dataframe thead th {\n",
       "        text-align: right;\n",
       "    }\n",
       "</style>\n",
       "<table border=\"1\" class=\"dataframe\">\n",
       "  <thead>\n",
       "    <tr style=\"text-align: right;\">\n",
       "      <th></th>\n",
       "      <th></th>\n",
       "      <th></th>\n",
       "      <th>PM2.5</th>\n",
       "      <th>PM10</th>\n",
       "      <th>NOx</th>\n",
       "      <th>CO</th>\n",
       "      <th>NH3</th>\n",
       "      <th>O3</th>\n",
       "      <th>SO2</th>\n",
       "      <th>Benzene</th>\n",
       "      <th>Toluene</th>\n",
       "      <th>Xylene</th>\n",
       "      <th>AQI</th>\n",
       "      <th>AQI_Bucket</th>\n",
       "    </tr>\n",
       "    <tr>\n",
       "      <th>City</th>\n",
       "      <th>Year</th>\n",
       "      <th>Month</th>\n",
       "      <th></th>\n",
       "      <th></th>\n",
       "      <th></th>\n",
       "      <th></th>\n",
       "      <th></th>\n",
       "      <th></th>\n",
       "      <th></th>\n",
       "      <th></th>\n",
       "      <th></th>\n",
       "      <th></th>\n",
       "      <th></th>\n",
       "      <th></th>\n",
       "    </tr>\n",
       "  </thead>\n",
       "  <tbody>\n",
       "    <tr>\n",
       "      <th rowspan=\"5\" valign=\"top\">Ahmedabad</th>\n",
       "      <th rowspan=\"5\" valign=\"top\">2015</th>\n",
       "      <th>1</th>\n",
       "      <td>69.415987</td>\n",
       "      <td>118.127103</td>\n",
       "      <td>39.480968</td>\n",
       "      <td>22.424793</td>\n",
       "      <td>23.483476</td>\n",
       "      <td>46.350645</td>\n",
       "      <td>43.602903</td>\n",
       "      <td>1.463871</td>\n",
       "      <td>2.531290</td>\n",
       "      <td>2.976452</td>\n",
       "      <td>184.257428</td>\n",
       "      <td>Unhealthy</td>\n",
       "    </tr>\n",
       "    <tr>\n",
       "      <th>2</th>\n",
       "      <td>110.888990</td>\n",
       "      <td>118.127103</td>\n",
       "      <td>49.005263</td>\n",
       "      <td>19.723064</td>\n",
       "      <td>23.483476</td>\n",
       "      <td>47.133368</td>\n",
       "      <td>57.980212</td>\n",
       "      <td>8.059019</td>\n",
       "      <td>21.669390</td>\n",
       "      <td>7.241442</td>\n",
       "      <td>482.692527</td>\n",
       "      <td>Hazardous</td>\n",
       "    </tr>\n",
       "    <tr>\n",
       "      <th>3</th>\n",
       "      <td>109.081632</td>\n",
       "      <td>118.127103</td>\n",
       "      <td>40.930617</td>\n",
       "      <td>13.658019</td>\n",
       "      <td>23.483476</td>\n",
       "      <td>45.389401</td>\n",
       "      <td>57.443935</td>\n",
       "      <td>10.720995</td>\n",
       "      <td>27.081322</td>\n",
       "      <td>4.040649</td>\n",
       "      <td>394.173895</td>\n",
       "      <td>Hazardous</td>\n",
       "    </tr>\n",
       "    <tr>\n",
       "      <th>4</th>\n",
       "      <td>101.682000</td>\n",
       "      <td>118.127103</td>\n",
       "      <td>26.932333</td>\n",
       "      <td>7.306333</td>\n",
       "      <td>23.483476</td>\n",
       "      <td>31.376000</td>\n",
       "      <td>51.233333</td>\n",
       "      <td>2.681333</td>\n",
       "      <td>7.461000</td>\n",
       "      <td>4.354000</td>\n",
       "      <td>284.943930</td>\n",
       "      <td>Very Unhealthy</td>\n",
       "    </tr>\n",
       "    <tr>\n",
       "      <th>5</th>\n",
       "      <td>74.919355</td>\n",
       "      <td>118.127103</td>\n",
       "      <td>24.751935</td>\n",
       "      <td>8.529677</td>\n",
       "      <td>23.483476</td>\n",
       "      <td>31.624194</td>\n",
       "      <td>35.977419</td>\n",
       "      <td>3.690968</td>\n",
       "      <td>10.779677</td>\n",
       "      <td>5.206774</td>\n",
       "      <td>260.337535</td>\n",
       "      <td>Very Unhealthy</td>\n",
       "    </tr>\n",
       "  </tbody>\n",
       "</table>\n",
       "</div>"
      ],
      "text/plain": [
       "                           PM2.5        PM10        NOx         CO        NH3  \\\n",
       "City      Year Month                                                            \n",
       "Ahmedabad 2015 1       69.415987  118.127103  39.480968  22.424793  23.483476   \n",
       "               2      110.888990  118.127103  49.005263  19.723064  23.483476   \n",
       "               3      109.081632  118.127103  40.930617  13.658019  23.483476   \n",
       "               4      101.682000  118.127103  26.932333   7.306333  23.483476   \n",
       "               5       74.919355  118.127103  24.751935   8.529677  23.483476   \n",
       "\n",
       "                             O3        SO2    Benzene    Toluene    Xylene  \\\n",
       "City      Year Month                                                         \n",
       "Ahmedabad 2015 1      46.350645  43.602903   1.463871   2.531290  2.976452   \n",
       "               2      47.133368  57.980212   8.059019  21.669390  7.241442   \n",
       "               3      45.389401  57.443935  10.720995  27.081322  4.040649   \n",
       "               4      31.376000  51.233333   2.681333   7.461000  4.354000   \n",
       "               5      31.624194  35.977419   3.690968  10.779677  5.206774   \n",
       "\n",
       "                             AQI      AQI_Bucket  \n",
       "City      Year Month                              \n",
       "Ahmedabad 2015 1      184.257428       Unhealthy  \n",
       "               2      482.692527       Hazardous  \n",
       "               3      394.173895       Hazardous  \n",
       "               4      284.943930  Very Unhealthy  \n",
       "               5      260.337535  Very Unhealthy  "
      ]
     },
     "execution_count": 16,
     "metadata": {},
     "output_type": "execute_result"
    }
   ],
   "source": [
    "data2 = dataf.copy(deep=True)\n",
    "\n",
    "conditions = [\n",
    "              (data2['AQI'] > 0) & (data2['AQI'] <50),\n",
    "              (data2['AQI'] > 51) & (data2['AQI'] <100),\n",
    "              (data2['AQI'] > 101) & (data2['AQI'] <150),\n",
    "              (data2['AQI'] > 151) & (data2['AQI'] <200),\n",
    "              (data2['AQI'] > 201) & (data2['AQI'] <300),\n",
    "              (data2['AQI'] > 300)\n",
    "]\n",
    "\n",
    "values = ['Good', 'Moderate', 'Unhealthy for sensitive group',\n",
    "          'Unhealthy', 'Very Unhealthy', 'Hazardous']\n",
    "\n",
    "data2['AQI_Bucket'] = np.select(conditions, values)\n",
    "\n",
    "data2.head()"
   ]
  },
  {
   "cell_type": "markdown",
   "metadata": {
    "id": "kFk3s6N5W8bJ"
   },
   "source": [
    "Now let's see correlation between various features using seaborn method **pairplot()**"
   ]
  },
  {
   "cell_type": "code",
   "execution_count": 17,
   "metadata": {
    "colab": {
     "base_uri": "https://localhost:8080/",
     "height": 744
    },
    "id": "N8AaQTGYyRik",
    "outputId": "b511b111-d01d-44b1-8e58-189416487d58"
   },
   "outputs": [
    {
     "data": {
      "text/plain": [
       "<seaborn.axisgrid.PairGrid at 0x186f30da970>"
      ]
     },
     "execution_count": 17,
     "metadata": {},
     "output_type": "execute_result"
    },
    {
     "data": {
      "image/png": "[encoded data removed]",
      "text/plain": [
       "<Figure size 720x720 with 20 Axes>"
      ]
     },
     "metadata": {
      "needs_background": "light"
     },
     "output_type": "display_data"
    }
   ],
   "source": [
    "df2 = df[['AQI', 'NO', 'CO', 'SO2']]\n",
    "sns.pairplot(df2)"
   ]
  },
  {
   "cell_type": "markdown",
   "metadata": {
    "id": "oOAZEQkG0r8i"
   },
   "source": [
    "#### From the above plot we can infer the following points:\n",
    "\n",
    "*  AQI is for sure positively correlated with all the features in the plot i.e. SO2, NO and CO\n",
    "\n",
    "*  In these three features under observation, SO2 is strongly correlated with AQI, as when SO2 content increases in the atmosphere AQI also increases \n",
    "\n",
    "*  Most of the AQI values lies between **0-1000 for NO**, **0-100 for CO** and **0-1200 for SO2** \n",
    "\n",
    "*  Here also we can see the AQI ranges in 1000s for SO2 "
   ]
  },
  {
   "cell_type": "code",
   "execution_count": 18,
   "metadata": {
    "colab": {
     "base_uri": "https://localhost:8080/",
     "height": 549
    },
    "id": "f42B0Htvz8gX",
    "outputId": "b59f5e58-0690-495f-8fdb-cdace61cf12e"
   },
   "outputs": [
    {
     "data": {
      "text/plain": [
       "Text(0.5, 1.0, 'Correlation Analysis')"
      ]
     },
     "execution_count": 18,
     "metadata": {},
     "output_type": "execute_result"
    },
    {
     "data": {
      "image/png": "[encoded data removed]",
      "text/plain": [
       "<Figure size 576x576 with 2 Axes>"
      ]
     },
     "metadata": {
      "needs_background": "light"
     },
     "output_type": "display_data"
    }
   ],
   "source": [
    "\n",
    "# FOr more details we can see for correlation heatmap of features \n",
    "\n",
    "plt.figure(figsize=(8,8))\n",
    "mask=np.triu(df.corr(method='pearson'))\n",
    "sns.heatmap(df.corr(method='pearson'),\n",
    "            annot=True,fmt='0.1f',\n",
    "            mask=mask,\n",
    "            robust=True,\n",
    "            cmap='pink')\n",
    "plt.title('Correlation Analysis')"
   ]
  },
  {
   "cell_type": "markdown",
   "metadata": {
    "id": "RHZkygRD3W0A"
   },
   "source": [
    "Here we can note down certain points from out correlation heatmap:\n",
    "* The darker the block is, **weaker**(or negative) the correlation is.\n",
    "* **CO, PM10, PM2.5** have the highest correlation with AQI. \n",
    "* Looking at the correlation of different features we can consider Benzene, Xylene and O3 as weakest features having no major contributon towards the defination of AQI."
   ]
  },
  {
   "cell_type": "markdown",
   "metadata": {
    "id": "uaa9jG64mw_v"
   },
   "source": [
    "### Top 10 cities with highest Average AQI"
   ]
  },
  {
   "cell_type": "code",
   "execution_count": 19,
   "metadata": {
    "colab": {
     "base_uri": "https://localhost:8080/",
     "height": 356
    },
    "id": "LaYaHDNP6DIR",
    "outputId": "0c0d5891-d3b8-49e7-caeb-d40f375407d9"
   },
   "outputs": [
    {
     "data": {
      "text/html": [
       "<div>\n",
       "<style scoped>\n",
       "    .dataframe tbody tr th:only-of-type {\n",
       "        vertical-align: middle;\n",
       "    }\n",
       "\n",
       "    .dataframe tbody tr th {\n",
       "        vertical-align: top;\n",
       "    }\n",
       "\n",
       "    .dataframe thead th {\n",
       "        text-align: right;\n",
       "    }\n",
       "</style>\n",
       "<table border=\"1\" class=\"dataframe\">\n",
       "  <thead>\n",
       "    <tr style=\"text-align: right;\">\n",
       "      <th></th>\n",
       "      <th>City</th>\n",
       "      <th>AQI</th>\n",
       "    </tr>\n",
       "  </thead>\n",
       "  <tbody>\n",
       "    <tr>\n",
       "      <th>0</th>\n",
       "      <td>Ahmedabad</td>\n",
       "      <td>452.122939</td>\n",
       "    </tr>\n",
       "    <tr>\n",
       "      <th>1</th>\n",
       "      <td>Delhi</td>\n",
       "      <td>259.487744</td>\n",
       "    </tr>\n",
       "    <tr>\n",
       "      <th>2</th>\n",
       "      <td>Patna</td>\n",
       "      <td>240.782042</td>\n",
       "    </tr>\n",
       "    <tr>\n",
       "      <th>3</th>\n",
       "      <td>Gurugram</td>\n",
       "      <td>225.123882</td>\n",
       "    </tr>\n",
       "    <tr>\n",
       "      <th>4</th>\n",
       "      <td>Lucknow</td>\n",
       "      <td>217.973059</td>\n",
       "    </tr>\n",
       "    <tr>\n",
       "      <th>5</th>\n",
       "      <td>Talcher</td>\n",
       "      <td>172.886819</td>\n",
       "    </tr>\n",
       "    <tr>\n",
       "      <th>6</th>\n",
       "      <td>Jorapokhar</td>\n",
       "      <td>159.251621</td>\n",
       "    </tr>\n",
       "    <tr>\n",
       "      <th>7</th>\n",
       "      <td>Brajrajnagar</td>\n",
       "      <td>150.280505</td>\n",
       "    </tr>\n",
       "    <tr>\n",
       "      <th>8</th>\n",
       "      <td>Kolkata</td>\n",
       "      <td>140.566313</td>\n",
       "    </tr>\n",
       "    <tr>\n",
       "      <th>9</th>\n",
       "      <td>Guwahati</td>\n",
       "      <td>140.111111</td>\n",
       "    </tr>\n",
       "  </tbody>\n",
       "</table>\n",
       "</div>"
      ],
      "text/plain": [
       "           City         AQI\n",
       "0     Ahmedabad  452.122939\n",
       "1         Delhi  259.487744\n",
       "2         Patna  240.782042\n",
       "3      Gurugram  225.123882\n",
       "4       Lucknow  217.973059\n",
       "5       Talcher  172.886819\n",
       "6    Jorapokhar  159.251621\n",
       "7  Brajrajnagar  150.280505\n",
       "8       Kolkata  140.566313\n",
       "9      Guwahati  140.111111"
      ]
     },
     "execution_count": 19,
     "metadata": {},
     "output_type": "execute_result"
    }
   ],
   "source": [
    "x = pd.DataFrame(df.groupby(['City'])[['AQI']].mean().sort_values(by='AQI', ascending=False).head(10))\n",
    "x = x.reset_index('City')\n",
    "x"
   ]
  },
  {
   "cell_type": "code",
   "execution_count": 20,
   "metadata": {
    "colab": {
     "base_uri": "https://localhost:8080/",
     "height": 401
    },
    "id": "7NX0L3o7mnZP",
    "outputId": "ac0171f4-628c-4ba4-d5f3-222035887506"
   },
   "outputs": [
    {
     "data": {
      "text/plain": [
       "<AxesSubplot:xlabel='AQI', ylabel='City'>"
      ]
     },
     "execution_count": 20,
     "metadata": {},
     "output_type": "execute_result"
    },
    {
     "data": {
      "image/png": "[encoded data removed]",
      "text/plain": [
       "<Figure size 720x432 with 1 Axes>"
      ]
     },
     "metadata": {},
     "output_type": "display_data"
    }
   ],
   "source": [
    "plt.style.use('seaborn-whitegrid')\n",
    "plt.figure(figsize=(10,6))\n",
    "sns.barplot(data=x, x='AQI', y='City', orient='h')"
   ]
  },
  {
   "cell_type": "markdown",
   "metadata": {
    "id": "QsN7eaIzporC"
   },
   "source": [
    "Here, we can mention few outcomes from this plot:\n",
    "* Top 10 cities have average AQI above than 140\n",
    "* Ahemdabad has the highest level of AQI with an average score of 452.122\n",
    "* The remaining 9 cities have their AQI values concentrated to a value in range of 150-250\n",
    "* Top Three cities are also capital regions which shows the level of air pollutants in those flagship areas.\n",
    " "
   ]
  },
  {
   "cell_type": "code",
   "execution_count": 21,
   "metadata": {
    "colab": {
     "base_uri": "https://localhost:8080/"
    },
    "id": "SUMBatq3oaEi",
    "outputId": "e540c867-67d1-4d31-e7dd-86a46cc9dad4"
   },
   "outputs": [
    {
     "data": {
      "text/plain": [
       "AQI    26\n",
       "dtype: int64"
      ]
     },
     "execution_count": 21,
     "metadata": {},
     "output_type": "execute_result"
    }
   ],
   "source": [
    "x2 = pd.DataFrame(df.groupby(['City'])[['AQI']].mean().sort_values(by='AQI', ascending=False))\n",
    "x2.count()"
   ]
  },
  {
   "cell_type": "code",
   "execution_count": 22,
   "metadata": {
    "colab": {
     "base_uri": "https://localhost:8080/"
    },
    "id": "xibERRuAq0hE",
    "outputId": "30686b5e-c8e4-43d8-eac5-440173941da7"
   },
   "outputs": [
    {
     "name": "stdout",
     "output_type": "stream",
     "text": [
      "City     29531\n",
      "Date     29531\n",
      "PM2.5    24933\n",
      "NO       25949\n",
      "NO2      25946\n",
      "NOx      25346\n",
      "CO       27472\n",
      "SO2      25677\n",
      "dtype: int64\n",
      "AQI    24850\n",
      "dtype: int64\n"
     ]
    }
   ],
   "source": [
    "# xx = df[['City', 'Date', 'PM2.5', 'NO', 'NO2', 'NOx', 'CO', 'SO2', 'AQI']]\n",
    "x3 = df[['City', 'Date', 'PM2.5', 'NO', 'NO2', 'NOx', 'CO', 'SO2']]\n",
    "x4 = df[['PM2.5', 'NO', 'NO2', 'NOx', 'CO', 'SO2']]\n",
    "y3 = df[['AQI']]\n",
    "print(x3.count())\n",
    "print(y3.count())"
   ]
  },
  {
   "cell_type": "code",
   "execution_count": 23,
   "metadata": {
    "colab": {
     "base_uri": "https://localhost:8080/"
    },
    "id": "WJEefLG2u8uI",
    "outputId": "a0b803dc-9297-46d5-8114-26b6db07c9f6"
   },
   "outputs": [
    {
     "data": {
      "text/plain": [
       "AQI    4681\n",
       "dtype: int64"
      ]
     },
     "execution_count": 23,
     "metadata": {},
     "output_type": "execute_result"
    }
   ],
   "source": [
    "y3.isna().sum()"
   ]
  },
  {
   "cell_type": "code",
   "execution_count": 24,
   "metadata": {
    "colab": {
     "base_uri": "https://localhost:8080/"
    },
    "id": "tFEfdmXbuRnK",
    "outputId": "9e4d021d-82c8-45ca-ab64-17898744f5af"
   },
   "outputs": [
    {
     "data": {
      "text/plain": [
       "PM2.5    22610\n",
       "NO       22610\n",
       "NO2      22610\n",
       "NOx      22610\n",
       "CO       22610\n",
       "SO2      22610\n",
       "dtype: int64"
      ]
     },
     "execution_count": 24,
     "metadata": {},
     "output_type": "execute_result"
    }
   ],
   "source": [
    "x5 = x4.dropna()\n",
    "x5.count()"
   ]
  },
  {
   "cell_type": "code",
   "execution_count": 25,
   "metadata": {
    "colab": {
     "base_uri": "https://localhost:8080/"
    },
    "id": "DsCEBgPRu3cj",
    "outputId": "bd811624-c9da-4611-912f-c26d37b20f45"
   },
   "outputs": [
    {
     "data": {
      "text/plain": [
       "AQI    24850\n",
       "dtype: int64"
      ]
     },
     "execution_count": 25,
     "metadata": {},
     "output_type": "execute_result"
    }
   ],
   "source": [
    "y5 = y3.dropna()\n",
    "y5.count()"
   ]
  },
  {
   "cell_type": "code",
   "execution_count": 26,
   "metadata": {
    "colab": {
     "base_uri": "https://localhost:8080/"
    },
    "id": "9kSzf_1TvXi5",
    "outputId": "0db6e942-d3bc-4bef-b2e0-76023949a572"
   },
   "outputs": [
    {
     "data": {
      "text/plain": [
       "AQI    22610\n",
       "dtype: int64"
      ]
     },
     "execution_count": 26,
     "metadata": {},
     "output_type": "execute_result"
    }
   ],
   "source": [
    "y5 = y5.head(22610)\n",
    "y5.count()"
   ]
  },
  {
   "cell_type": "code",
   "execution_count": 27,
   "metadata": {
    "id": "bniAPGy2sqGI"
   },
   "outputs": [],
   "source": [
    "# importing ML libraries\n",
    "from sklearn import linear_model\n",
    "from sklearn.metrics import mean_squared_error, r2_score\n",
    "from sklearn.model_selection import train_test_split\n",
    "from sklearn.ensemble import RandomForestRegressor"
   ]
  },
  {
   "cell_type": "code",
   "execution_count": 28,
   "metadata": {
    "id": "VptwqrtTkTMl"
   },
   "outputs": [],
   "source": [
    "features = ['PM2.5','PM10','NOx','CO','NH3','O3','SO2','Benzene','Toluene','Xylene','AQI']"
   ]
  },
  {
   "cell_type": "markdown",
   "metadata": {
    "id": "mHONvuL6d9rl"
   },
   "source": [
    "Let's slice the dataset for training and testing "
   ]
  },
  {
   "cell_type": "code",
   "execution_count": 29,
   "metadata": {
    "id": "u8MPynnekGIf"
   },
   "outputs": [],
   "source": [
    "data_train, data_test = train_test_split(dataf, test_size=0.20)\n",
    "data_train = data_train[features]\n",
    "data_test = data_test[features]\n",
    "\n",
    "dxtrain, dytrain = data_train.drop('AQI', axis=1), data_train['AQI']\n",
    "dxtest, dytest = data_test.drop('AQI', axis=1), data_test['AQI']"
   ]
  },
  {
   "cell_type": "code",
   "execution_count": 30,
   "metadata": {
    "colab": {
     "base_uri": "https://localhost:8080/",
     "height": 233
    },
    "id": "Tl391dUpeC8u",
    "outputId": "d924b9a2-4025-4761-e652-8fba1b2b30f8"
   },
   "outputs": [
    {
     "data": {
      "text/html": [
       "<div>\n",
       "<style scoped>\n",
       "    .dataframe tbody tr th:only-of-type {\n",
       "        vertical-align: middle;\n",
       "    }\n",
       "\n",
       "    .dataframe tbody tr th {\n",
       "        vertical-align: top;\n",
       "    }\n",
       "\n",
       "    .dataframe thead th {\n",
       "        text-align: right;\n",
       "    }\n",
       "</style>\n",
       "<table border=\"1\" class=\"dataframe\">\n",
       "  <thead>\n",
       "    <tr style=\"text-align: right;\">\n",
       "      <th></th>\n",
       "      <th></th>\n",
       "      <th></th>\n",
       "      <th>PM2.5</th>\n",
       "      <th>PM10</th>\n",
       "      <th>NOx</th>\n",
       "      <th>CO</th>\n",
       "      <th>NH3</th>\n",
       "      <th>O3</th>\n",
       "      <th>SO2</th>\n",
       "      <th>Benzene</th>\n",
       "      <th>Toluene</th>\n",
       "      <th>Xylene</th>\n",
       "    </tr>\n",
       "    <tr>\n",
       "      <th>City</th>\n",
       "      <th>Year</th>\n",
       "      <th>Month</th>\n",
       "      <th></th>\n",
       "      <th></th>\n",
       "      <th></th>\n",
       "      <th></th>\n",
       "      <th></th>\n",
       "      <th></th>\n",
       "      <th></th>\n",
       "      <th></th>\n",
       "      <th></th>\n",
       "      <th></th>\n",
       "    </tr>\n",
       "  </thead>\n",
       "  <tbody>\n",
       "    <tr>\n",
       "      <th>Hyderabad</th>\n",
       "      <th>2015</th>\n",
       "      <th>11</th>\n",
       "      <td>60.782333</td>\n",
       "      <td>103.045667</td>\n",
       "      <td>15.896000</td>\n",
       "      <td>0.973667</td>\n",
       "      <td>9.450667</td>\n",
       "      <td>34.778333</td>\n",
       "      <td>10.021000</td>\n",
       "      <td>1.304000</td>\n",
       "      <td>7.023000</td>\n",
       "      <td>1.131000</td>\n",
       "    </tr>\n",
       "    <tr>\n",
       "      <th>Ahmedabad</th>\n",
       "      <th>2015</th>\n",
       "      <th>3</th>\n",
       "      <td>109.081632</td>\n",
       "      <td>118.127103</td>\n",
       "      <td>40.930617</td>\n",
       "      <td>13.658019</td>\n",
       "      <td>23.483476</td>\n",
       "      <td>45.389401</td>\n",
       "      <td>57.443935</td>\n",
       "      <td>10.720995</td>\n",
       "      <td>27.081322</td>\n",
       "      <td>4.040649</td>\n",
       "    </tr>\n",
       "    <tr>\n",
       "      <th>Chennai</th>\n",
       "      <th>2016</th>\n",
       "      <th>11</th>\n",
       "      <td>70.294000</td>\n",
       "      <td>118.127103</td>\n",
       "      <td>14.673667</td>\n",
       "      <td>0.067000</td>\n",
       "      <td>23.483476</td>\n",
       "      <td>39.235667</td>\n",
       "      <td>4.635667</td>\n",
       "      <td>0.367667</td>\n",
       "      <td>0.526333</td>\n",
       "      <td>3.070128</td>\n",
       "    </tr>\n",
       "    <tr>\n",
       "      <th>Amaravati</th>\n",
       "      <th>2019</th>\n",
       "      <th>7</th>\n",
       "      <td>12.890645</td>\n",
       "      <td>29.360000</td>\n",
       "      <td>11.861290</td>\n",
       "      <td>0.449355</td>\n",
       "      <td>3.131935</td>\n",
       "      <td>27.794516</td>\n",
       "      <td>16.267097</td>\n",
       "      <td>0.137742</td>\n",
       "      <td>1.581613</td>\n",
       "      <td>0.194516</td>\n",
       "    </tr>\n",
       "    <tr>\n",
       "      <th>Patna</th>\n",
       "      <th>2016</th>\n",
       "      <th>5</th>\n",
       "      <td>88.726129</td>\n",
       "      <td>118.127103</td>\n",
       "      <td>32.215484</td>\n",
       "      <td>1.470323</td>\n",
       "      <td>23.483476</td>\n",
       "      <td>25.850645</td>\n",
       "      <td>6.728387</td>\n",
       "      <td>0.194839</td>\n",
       "      <td>0.797419</td>\n",
       "      <td>0.511290</td>\n",
       "    </tr>\n",
       "  </tbody>\n",
       "</table>\n",
       "</div>"
      ],
      "text/plain": [
       "                           PM2.5        PM10        NOx         CO        NH3  \\\n",
       "City      Year Month                                                            \n",
       "Hyderabad 2015 11      60.782333  103.045667  15.896000   0.973667   9.450667   \n",
       "Ahmedabad 2015 3      109.081632  118.127103  40.930617  13.658019  23.483476   \n",
       "Chennai   2016 11      70.294000  118.127103  14.673667   0.067000  23.483476   \n",
       "Amaravati 2019 7       12.890645   29.360000  11.861290   0.449355   3.131935   \n",
       "Patna     2016 5       88.726129  118.127103  32.215484   1.470323  23.483476   \n",
       "\n",
       "                             O3        SO2    Benzene    Toluene    Xylene  \n",
       "City      Year Month                                                        \n",
       "Hyderabad 2015 11     34.778333  10.021000   1.304000   7.023000  1.131000  \n",
       "Ahmedabad 2015 3      45.389401  57.443935  10.720995  27.081322  4.040649  \n",
       "Chennai   2016 11     39.235667   4.635667   0.367667   0.526333  3.070128  \n",
       "Amaravati 2019 7      27.794516  16.267097   0.137742   1.581613  0.194516  \n",
       "Patna     2016 5      25.850645   6.728387   0.194839   0.797419  0.511290  "
      ]
     },
     "execution_count": 30,
     "metadata": {},
     "output_type": "execute_result"
    }
   ],
   "source": [
    "dxtrain.head()"
   ]
  },
  {
   "cell_type": "code",
   "execution_count": 31,
   "metadata": {
    "colab": {
     "base_uri": "https://localhost:8080/"
    },
    "id": "XiAeaO1qeIAn",
    "outputId": "7f3a145b-17fc-4b2d-bcc8-ca8df19eef07"
   },
   "outputs": [
    {
     "data": {
      "text/plain": [
       "City       Year  Month\n",
       "Hyderabad  2015  11       139.166667\n",
       "Ahmedabad  2015  3        394.173895\n",
       "Chennai    2016  11       140.933333\n",
       "Amaravati  2019  7         57.191199\n",
       "Patna      2016  5        189.677419\n",
       "Name: AQI, dtype: float64"
      ]
     },
     "execution_count": 31,
     "metadata": {},
     "output_type": "execute_result"
    }
   ],
   "source": [
    "dytrain.head()"
   ]
  },
  {
   "cell_type": "code",
   "execution_count": 32,
   "metadata": {
    "id": "bTSp4y6UGudQ"
   },
   "outputs": [],
   "source": [
    "# x_train, x_test, y_train, y_test = train_test_split(x3, y3, test_size=0.33)\n",
    "x_train2, x_test2, y_train2, y_test2 = train_test_split(x4, y3, test_size=0.33)\n",
    "x_train3, x_test3, ytrain3, y_test3 = train_test_split(x5, y5, test_size=0.33)"
   ]
  },
  {
   "cell_type": "code",
   "execution_count": 33,
   "metadata": {
    "colab": {
     "base_uri": "https://localhost:8080/"
    },
    "id": "T3dmJVp1GI4P",
    "outputId": "7986e4c5-5cb4-413a-a97b-7c0a3638eeb6"
   },
   "outputs": [
    {
     "data": {
      "text/plain": [
       "LinearRegression()"
      ]
     },
     "execution_count": 33,
     "metadata": {},
     "output_type": "execute_result"
    }
   ],
   "source": [
    "# model instance definitions for linear regression\n",
    "\n",
    "l4 = linear_model.LinearRegression()\n",
    "\n",
    "modelall = l4.fit(dxtrain, dytrain)\n",
    "modelall"
   ]
  },
  {
   "cell_type": "code",
   "execution_count": 34,
   "metadata": {
    "colab": {
     "base_uri": "https://localhost:8080/"
    },
    "id": "mAxhekJ0oSzk",
    "outputId": "dda4ab49-9b02-4d56-86dd-05c92f53b5e7"
   },
   "outputs": [
    {
     "name": "stdout",
     "output_type": "stream",
     "text": [
      "Mean_Squared_Error :  728.5083502496302\n"
     ]
    }
   ],
   "source": [
    "y_hat = l4.predict(dxtest)\n",
    "\n",
    "print('Mean_Squared_Error : ', mean_squared_error(dytest, y_hat))"
   ]
  },
  {
   "cell_type": "code",
   "execution_count": 35,
   "metadata": {
    "id": "3JPK322Iek9L"
   },
   "outputs": [
    {
     "data": {
      "text/plain": [
       "array([149.51813399, 158.38135301, 163.08363613,  96.07174531,\n",
       "       187.0536692 , 134.90397872, 107.5265887 , 262.18036586,\n",
       "       460.59018726, 124.15402166,  85.53568048,  88.12104807,\n",
       "       248.22370162, 171.57968322,  91.28542812,  93.65679423,\n",
       "        89.31669369, 178.83004059, 144.4627625 , 144.81490523,\n",
       "       140.40726123, 459.16342415, 118.75680929,  61.5804651 ,\n",
       "       129.69057685, 179.49151838, 166.14501769, 365.62968198,\n",
       "       134.61047936,  85.30791223, 196.45607693, 152.37474979,\n",
       "       106.82540727, 161.52004027, 152.31684406, 142.63600629,\n",
       "        92.92332337, 201.75709259, 201.66946589,   8.54615744,\n",
       "       151.69269503, 205.13522317,  57.09240715, 136.73281769,\n",
       "       151.70526493,  98.62069777,  79.01537004, 106.91167825,\n",
       "       124.40349678,  18.84867846, 494.52405155,  75.11972558,\n",
       "       100.99532523, 203.3011505 ,  79.6163228 , 666.22976603,\n",
       "        89.35539101, 145.93056565,  92.30136571,  48.44971378,\n",
       "        93.11431568,  64.1445657 ,  98.01997541, 154.84363404,\n",
       "       143.25239204, 138.89020416, 134.30396706, 112.24370636,\n",
       "       149.07138622, 458.24035138, 203.38164197, 452.83582534,\n",
       "       101.90816254, 113.2215211 , 173.50274302, 126.14246947,\n",
       "       272.11953122, 221.55791814, 104.45206516, 175.21851368,\n",
       "       270.12775118, 650.02089618,  56.31509277,  60.27962746,\n",
       "       125.12214873, 109.24805714, 361.65286706, 116.11409338,\n",
       "       171.70314501, 153.72993998,  67.02921872,  72.79313831,\n",
       "       245.29347602, 407.5981191 , 197.21921121, 141.54138391,\n",
       "       442.34517544, 109.28950926,  83.6073587 , 102.7505473 ,\n",
       "       104.03280546, 185.1789219 ,  72.26673597,  70.23714091,\n",
       "        79.96909335, 111.17504139, 207.94245197,  55.57394312,\n",
       "       122.43729096, 205.27280295, 124.33135758, 159.00202724,\n",
       "       292.30700063, 105.03551459, 171.79891653, 216.27130507,\n",
       "        70.89410543, 236.80013396, 118.67520494, 169.7026109 ,\n",
       "        72.69159638, 293.40560786, 704.5001835 , 186.74452233,\n",
       "       121.12422844,  69.76570372,  69.91485756,  60.91127114,\n",
       "       482.11427663, 292.43753757,  83.27606042, 168.23018196,\n",
       "       134.98050294, 127.04103546, 201.4270561 , 209.59298805,\n",
       "       151.85420106, 152.21420177,  88.35235466, 122.94341706,\n",
       "        70.32224346, 101.51903435, 204.24528007, 166.14501769,\n",
       "        53.75905109, 204.79518521, 170.93314745, 191.60716845,\n",
       "       139.9869306 , 148.74257919, 154.7378894 ,  92.52800672,\n",
       "       351.51358385, 161.23683545, 157.52285358, 354.13556395,\n",
       "       423.61993835,  77.09584378, 141.28197583, 171.76197574,\n",
       "       339.3085325 , 615.91323044, 162.17668966,  74.31327217,\n",
       "       211.20949326,  71.65772913,  99.47244691, 159.27731684,\n",
       "       122.08320476, 229.36297213,  94.32795293, 518.68104861,\n",
       "       144.92199062, 171.04512956, 112.9288202 , 155.84326084,\n",
       "       123.0378921 , 145.37086286, 134.45265583, 351.39383662,\n",
       "       350.34432393, 101.99866766,  48.20080012, 171.24511679,\n",
       "       125.83438223, 443.62985713, 334.03403736, 123.9584231 ,\n",
       "       132.22537511, 125.38504586, 101.41490794, 174.98808649,\n",
       "        91.0000919 , 149.81239103, 267.97648361, 166.14501769,\n",
       "       149.28525716,  93.23250898, 112.70439253, 343.61170283,\n",
       "       225.23240719])"
      ]
     },
     "execution_count": 35,
     "metadata": {},
     "output_type": "execute_result"
    }
   ],
   "source": [
    "y_hat"
   ]
  },
  {
   "cell_type": "code",
   "execution_count": 36,
   "metadata": {
    "colab": {
     "base_uri": "https://localhost:8080/"
    },
    "id": "iv-7tYrSwjI-",
    "outputId": "88fc859d-3b3e-4ef1-9cbe-99ff2be62796"
   },
   "outputs": [
    {
     "name": "stdout",
     "output_type": "stream",
     "text": [
      "[1312.15880777]\n"
     ]
    }
   ],
   "source": [
    "p = l4.predict([[25, 35, 95, 100, 50, 78, 55, 15, 10, 5]])\n",
    "print(p)"
   ]
  },
  {
   "cell_type": "code",
   "execution_count": 37,
   "metadata": {
    "colab": {
     "base_uri": "https://localhost:8080/"
    },
    "id": "WHNC1zU6VZpR",
    "outputId": "753682fb-cd99-4ef5-b8aa-6901cf9a936c"
   },
   "outputs": [
    {
     "name": "stdout",
     "output_type": "stream",
     "text": [
      "Model Trained with parameters:/n Model Coefficient :  [1.61405539] /n Model Intercept :  53.71629010577905\n",
      "r2 score for trained Model :  0.5523507998483872\n"
     ]
    }
   ],
   "source": [
    "import pickle\n",
    "\n",
    "fea = data_train['PM2.5'].values.reshape(-1, 1)\n",
    "tar = data_train['AQI'].values\n",
    "\n",
    "# defining model instance for linear regression\n",
    "ol = linear_model.LinearRegression()\n",
    "\n",
    "# model training\n",
    "model1 = ol.fit(fea, tar)\n",
    "\n",
    "print(\"Model Trained with parameters:/n Model Coefficient : \",model1.coef_,\"/n Model Intercept : \",model1.intercept_)\n",
    "\n",
    "# prediction\n",
    "pp = ol.predict(fea)\n",
    "\n",
    "# r2 score\n",
    "r2 = r2_score(tar, pp)\n",
    "print(\"r2 score for trained Model : \",r2)"
   ]
  },
  {
   "cell_type": "markdown",
   "metadata": {
    "id": "-w_XwPnDgGKr"
   },
   "source": [
    "So here using only one parameter i.e. **PM2.5** we got a r2 score of 0.489 which is not a good one to have but a better one to start with.\n",
    "\n",
    "We need to look to oiur datapoints as it simply shows that our data might be scattered due to which it has a low r2 score."
   ]
  },
  {
   "cell_type": "code",
   "execution_count": 38,
   "metadata": {
    "colab": {
     "base_uri": "https://localhost:8080/",
     "height": 441
    },
    "id": "4eEDBpy5gBdo",
    "outputId": "690e433d-7d27-4a73-999d-1fccfacfa476"
   },
   "outputs": [
    {
     "data": {
      "image/png": "[encoded data removed]",
      "text/plain": [
       "<Figure size 576x432 with 1 Axes>"
      ]
     },
     "metadata": {},
     "output_type": "display_data"
    }
   ],
   "source": [
    "fig, ax = plt.subplots(figsize=(8,6))\n",
    "\n",
    "ax.plot(fea, pp, color='k', label='Regression model')\n",
    "ax.scatter(fea, tar, edgecolor = 'k', facecolor = 'grey', label='Data')\n",
    "ax.set_xlabel('PM2.5', fontsize=14)\n",
    "ax.set_ylabel('AQI', fontsize=14)\n",
    "\n",
    "ax.set_title('$R^2 = %.2f$'%r2, fontsize=18)\n",
    "fig.tight_layout()"
   ]
  },
  {
   "cell_type": "code",
   "execution_count": 39,
   "metadata": {
    "colab": {
     "base_uri": "https://localhost:8080/"
    },
    "id": "c2GJ3iOmioHw",
    "outputId": "1f99cf2d-64bf-41f6-c683-b3ae86debd8e"
   },
   "outputs": [
    {
     "name": "stdout",
     "output_type": "stream",
     "text": [
      "Pickled the models\n"
     ]
    }
   ],
   "source": [
    "# pickle the models for external or future use\n",
    "filename1 = 'modelall.sav'\n",
    "filename2 = 'model1.sav'\n",
    "pickle.dump(modelall, open(filename1, 'wb'))\n",
    "pickle.dump(model1, open(filename2, 'wb'))\n",
    "print(\"Pickled the models\")"
   ]
  },
  {
   "cell_type": "code",
   "execution_count": null,
   "metadata": {
    "id": "KcM-wDSsjmiT"
   },
   "outputs": [],
   "source": []
  },
  {
   "cell_type": "code",
   "execution_count": null,
   "metadata": {},
   "outputs": [],
   "source": []
  }
 ],
 "metadata": {
  "colab": {
   "collapsed_sections": [
    "r6dca9lLVoGd",
    "oOAZEQkG0r8i"
   ],
   "name": "Air Polution_A.ipynb",
   "provenance": []
  },
  "kernelspec": {
   "display_name": "Python 3 (ipykernel)",
   "language": "python",
   "name": "python3"
  },
  "language_info": {
   "codemirror_mode": {
    "name": "ipython",
    "version": 3
   },
   "file_extension": ".py",
   "mimetype": "text/x-python",
   "name": "python",
   "nbconvert_exporter": "python",
   "pygments_lexer": "ipython3",
   "version": "3.9.7"
  }
 },
 "nbformat": 4,
 "nbformat_minor": 1
}
